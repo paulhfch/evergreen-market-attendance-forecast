{
 "cells": [
  {
   "cell_type": "markdown",
   "id": "f6d109c2",
   "metadata": {},
   "source": [
    "# Evergreen Farmers Market Attendance Forecast"
   ]
  },
  {
   "cell_type": "code",
   "execution_count": 1,
   "id": "87989169",
   "metadata": {},
   "outputs": [
    {
     "name": "stdout",
     "output_type": "stream",
     "text": [
      "Requirement already satisfied: numpy in ./.venv/lib/python3.13/site-packages (2.2.4)\n",
      "Requirement already satisfied: pandas in ./.venv/lib/python3.13/site-packages (2.2.3)\n",
      "Requirement already satisfied: requests in ./.venv/lib/python3.13/site-packages (2.32.3)\n",
      "Requirement already satisfied: python-dateutil>=2.8.2 in ./.venv/lib/python3.13/site-packages (from pandas) (2.9.0.post0)\n",
      "Requirement already satisfied: pytz>=2020.1 in ./.venv/lib/python3.13/site-packages (from pandas) (2025.2)\n",
      "Requirement already satisfied: tzdata>=2022.7 in ./.venv/lib/python3.13/site-packages (from pandas) (2025.2)\n",
      "Requirement already satisfied: charset-normalizer<4,>=2 in ./.venv/lib/python3.13/site-packages (from requests) (3.4.1)\n",
      "Requirement already satisfied: idna<4,>=2.5 in ./.venv/lib/python3.13/site-packages (from requests) (3.10)\n",
      "Requirement already satisfied: urllib3<3,>=1.21.1 in ./.venv/lib/python3.13/site-packages (from requests) (2.4.0)\n",
      "Requirement already satisfied: certifi>=2017.4.17 in ./.venv/lib/python3.13/site-packages (from requests) (2025.1.31)\n",
      "Requirement already satisfied: six>=1.5 in ./.venv/lib/python3.13/site-packages (from python-dateutil>=2.8.2->pandas) (1.17.0)\n",
      "Note: you may need to restart the kernel to use updated packages.\n",
      "Requirement already satisfied: openmeteo_requests in ./.venv/lib/python3.13/site-packages (1.4.0)\n",
      "Requirement already satisfied: requests-cache in ./.venv/lib/python3.13/site-packages (1.2.1)\n",
      "Requirement already satisfied: retry-requests in ./.venv/lib/python3.13/site-packages (2.0.0)\n",
      "Requirement already satisfied: openmeteo-sdk>=1.4.0 in ./.venv/lib/python3.13/site-packages (from openmeteo_requests) (1.20.0)\n",
      "Requirement already satisfied: requests in ./.venv/lib/python3.13/site-packages (from openmeteo_requests) (2.32.3)\n",
      "Requirement already satisfied: attrs>=21.2 in ./.venv/lib/python3.13/site-packages (from requests-cache) (25.3.0)\n",
      "Requirement already satisfied: cattrs>=22.2 in ./.venv/lib/python3.13/site-packages (from requests-cache) (24.1.3)\n",
      "Requirement already satisfied: platformdirs>=2.5 in ./.venv/lib/python3.13/site-packages (from requests-cache) (4.3.7)\n",
      "Requirement already satisfied: url-normalize>=1.4 in ./.venv/lib/python3.13/site-packages (from requests-cache) (2.2.0)\n",
      "Requirement already satisfied: urllib3>=1.25.5 in ./.venv/lib/python3.13/site-packages (from requests-cache) (2.4.0)\n",
      "Requirement already satisfied: flatbuffers==25.2.10 in ./.venv/lib/python3.13/site-packages (from openmeteo-sdk>=1.4.0->openmeteo_requests) (25.2.10)\n",
      "Requirement already satisfied: charset-normalizer<4,>=2 in ./.venv/lib/python3.13/site-packages (from requests->openmeteo_requests) (3.4.1)\n",
      "Requirement already satisfied: idna<4,>=2.5 in ./.venv/lib/python3.13/site-packages (from requests->openmeteo_requests) (3.10)\n",
      "Requirement already satisfied: certifi>=2017.4.17 in ./.venv/lib/python3.13/site-packages (from requests->openmeteo_requests) (2025.1.31)\n",
      "Note: you may need to restart the kernel to use updated packages.\n",
      "Requirement already satisfied: joblib in ./.venv/lib/python3.13/site-packages (1.4.2)\n",
      "Note: you may need to restart the kernel to use updated packages.\n"
     ]
    }
   ],
   "source": [
    "%pip install numpy pandas requests\n",
    "import pandas as pd\n",
    "from datetime import datetime, date\n",
    "\n",
    "%pip install openmeteo_requests requests-cache retry-requests\n",
    "import openmeteo_requests\n",
    "import requests_cache\n",
    "from retry_requests import retry\n",
    "\n",
    "%pip install joblib\n",
    "import joblib"
   ]
  },
  {
   "cell_type": "markdown",
   "id": "fa7826a3",
   "metadata": {},
   "source": [
    "## Create future data"
   ]
  },
  {
   "cell_type": "code",
   "execution_count": 2,
   "id": "dbb59aff",
   "metadata": {},
   "outputs": [],
   "source": [
    "# Must be within future 7 days\n",
    "future_date = date(2025, 4, 19)\n",
    "\n",
    "visits_last_week = 2558\n",
    "visits_two_weeks_ago = 2567"
   ]
  },
  {
   "cell_type": "code",
   "execution_count": 3,
   "id": "638e5ddd",
   "metadata": {},
   "outputs": [
    {
     "data": {
      "text/html": [
       "<div>\n",
       "<style scoped>\n",
       "    .dataframe tbody tr th:only-of-type {\n",
       "        vertical-align: middle;\n",
       "    }\n",
       "\n",
       "    .dataframe tbody tr th {\n",
       "        vertical-align: top;\n",
       "    }\n",
       "\n",
       "    .dataframe thead th {\n",
       "        text-align: right;\n",
       "    }\n",
       "</style>\n",
       "<table border=\"1\" class=\"dataframe\">\n",
       "  <thead>\n",
       "    <tr style=\"text-align: right;\">\n",
       "      <th></th>\n",
       "      <th>ds</th>\n",
       "      <th>visits_last_week</th>\n",
       "      <th>visits_two_weeks_ago</th>\n",
       "      <th>min_temp</th>\n",
       "      <th>max_temp</th>\n",
       "      <th>is_sunny</th>\n",
       "      <th>is_cloudy</th>\n",
       "      <th>is_rainy</th>\n",
       "      <th>is_snowy</th>\n",
       "    </tr>\n",
       "  </thead>\n",
       "  <tbody>\n",
       "    <tr>\n",
       "      <th>0</th>\n",
       "      <td>2025-04-19</td>\n",
       "      <td>2558</td>\n",
       "      <td>2567</td>\n",
       "      <td>5.55</td>\n",
       "      <td>18.25</td>\n",
       "      <td>0</td>\n",
       "      <td>0</td>\n",
       "      <td>1</td>\n",
       "      <td>0</td>\n",
       "    </tr>\n",
       "  </tbody>\n",
       "</table>\n",
       "</div>"
      ],
      "text/plain": [
       "           ds  visits_last_week  visits_two_weeks_ago  min_temp  max_temp  \\\n",
       "0  2025-04-19              2558                  2567      5.55     18.25   \n",
       "\n",
       "   is_sunny  is_cloudy  is_rainy  is_snowy  \n",
       "0         0          0         1         0  "
      ]
     },
     "execution_count": 3,
     "metadata": {},
     "output_type": "execute_result"
    }
   ],
   "source": [
    "# Evergreem market coorindates\n",
    "LAT = '43.6843353'\n",
    "LONG = '-79.367293'\n",
    "\n",
    "def date_string_from(date):\n",
    "    return date.strftime(\"%Y-%m-%d\")\n",
    "\n",
    "def date_from(date_str):\n",
    "    return datetime.strptime(date_str, \"%Y-%m-%d\")\n",
    "\n",
    "# WMO weather codes\n",
    "# https://www.nodc.noaa.gov/archive/arc0021/0002199/1.1/data/0-data/HTML/WMO-CODE/WMO4677.HTM\n",
    "def is_sunny(weather_code):\n",
    "    return weather_code <= 1\n",
    "\n",
    "def is_cloudy(weather_code):\n",
    "    return (weather_code >= 2 and weather_code <= 3) or (weather_code >= 45 and weather_code <= 48)\n",
    "\n",
    "def is_rainy(weather_code):\n",
    "    return (weather_code >= 51 and weather_code <= 67) or (weather_code >= 80 and weather_code <= 82) or (weather_code >= 95 and weather_code <= 99)\n",
    "\n",
    "def is_snowy(weather_code):\n",
    "    return (weather_code >= 71 and weather_code <= 77) or (weather_code >= 85 and weather_code <= 85)\n",
    "\n",
    "def fetch_weather_forecast_7d():\n",
    "    # Setup the Open-Meteo API client with cache and retry on error\n",
    "    cache_session = requests_cache.CachedSession('.cache', expire_after = 3600)\n",
    "    retry_session = retry(cache_session, retries = 5, backoff_factor = 0.2)\n",
    "    openmeteo = openmeteo_requests.Client(session = retry_session)\n",
    "\n",
    "    # Make sure all required weather variables are listed here\n",
    "    # The order of variables in hourly or daily is important to assign them correctly below\n",
    "    url = \"https://api.open-meteo.com/v1/forecast\"\n",
    "    params = {\n",
    "        \"latitude\": LAT,\n",
    "        \"longitude\": LONG,\n",
    "        \"daily\": [\"weather_code\", \"temperature_2m_max\", \"temperature_2m_min\"],\n",
    "        \"timezone\": \"America/New_York\"\n",
    "    }\n",
    "    responses = openmeteo.weather_api(url, params=params)\n",
    "\n",
    "    # Process first location. Add a for-loop for multiple locations or weather models\n",
    "    response = responses[0]\n",
    "\n",
    "    # Process daily data. The order of variables needs to be the same as requested.\n",
    "    daily = response.Daily()\n",
    "    daily_weather_code = daily.Variables(0).ValuesAsNumpy()\n",
    "    daily_temperature_2m_max = daily.Variables(1).ValuesAsNumpy()\n",
    "    daily_temperature_2m_min = daily.Variables(2).ValuesAsNumpy()\n",
    "\n",
    "    daily_data = {\"date\": pd.date_range(\n",
    "        start = date_string_from(pd.to_datetime(daily.Time(), unit = \"s\", utc = True)),\n",
    "        end = date_string_from(pd.to_datetime(daily.TimeEnd(), unit = \"s\", utc = True)),\n",
    "        freq = pd.Timedelta(seconds = daily.Interval()),\n",
    "        inclusive = \"left\"\n",
    "    )}\n",
    "\n",
    "    daily_data[\"weather_code\"] = daily_weather_code\n",
    "    daily_data[\"temperature_2m_max\"] = daily_temperature_2m_max\n",
    "    daily_data[\"temperature_2m_min\"] = daily_temperature_2m_min\n",
    "\n",
    "    return pd.DataFrame(data = daily_data)\n",
    "\n",
    "weather_forecast = fetch_weather_forecast_7d()\n",
    "weather_forecast_daily = weather_forecast.loc[weather_forecast['date'] == future_date.strftime(\"%Y-%m-%d\")]\n",
    "if(weather_forecast_daily.empty):\n",
    "    print('can\\'t find weather forecast')\n",
    "    exit(1)\n",
    "\n",
    "weather_code = weather_forecast_daily['weather_code'].iloc[0]\n",
    "\n",
    "future_data = {\n",
    "    \"ds\": [future_date],\n",
    "    \"visits_last_week\": [visits_last_week], \n",
    "    \"visits_two_weeks_ago\": [visits_two_weeks_ago],  \n",
    "    'min_temp': [float(weather_forecast_daily['temperature_2m_min'].iloc[0])],\n",
    "\t'max_temp': [float(weather_forecast_daily['temperature_2m_max'].iloc[0])],\n",
    "\t'is_sunny': [int(is_sunny(weather_code))],\n",
    "\t'is_cloudy': [int(is_cloudy(weather_code))],\n",
    "\t'is_rainy': [int(is_rainy(weather_code))],\n",
    "\t'is_snowy': [int(is_snowy(weather_code))],\n",
    "}\n",
    "\n",
    "future_df = pd.DataFrame(future_data)\n",
    "future_df.head()\n"
   ]
  },
  {
   "cell_type": "markdown",
   "id": "38ff81af",
   "metadata": {},
   "source": [
    "## Make Prediction"
   ]
  },
  {
   "cell_type": "code",
   "execution_count": 4,
   "id": "e6e15040",
   "metadata": {},
   "outputs": [
    {
     "name": "stderr",
     "output_type": "stream",
     "text": [
      "/Users/fangchenhuang/code/evergreen-market-attendance-forecast/.venv/lib/python3.13/site-packages/tqdm/auto.py:21: TqdmWarning: IProgress not found. Please update jupyter and ipywidgets. See https://ipywidgets.readthedocs.io/en/stable/user_install.html\n",
      "  from .autonotebook import tqdm as notebook_tqdm\n",
      "Importing plotly failed. Interactive plots will not work.\n"
     ]
    },
    {
     "data": {
      "text/html": [
       "<div>\n",
       "<style scoped>\n",
       "    .dataframe tbody tr th:only-of-type {\n",
       "        vertical-align: middle;\n",
       "    }\n",
       "\n",
       "    .dataframe tbody tr th {\n",
       "        vertical-align: top;\n",
       "    }\n",
       "\n",
       "    .dataframe thead th {\n",
       "        text-align: right;\n",
       "    }\n",
       "</style>\n",
       "<table border=\"1\" class=\"dataframe\">\n",
       "  <thead>\n",
       "    <tr style=\"text-align: right;\">\n",
       "      <th></th>\n",
       "      <th>ds</th>\n",
       "      <th>visits_last_week</th>\n",
       "      <th>visits_two_weeks_ago</th>\n",
       "      <th>min_temp</th>\n",
       "      <th>max_temp</th>\n",
       "      <th>is_sunny</th>\n",
       "      <th>is_cloudy</th>\n",
       "      <th>is_rainy</th>\n",
       "      <th>is_snowy</th>\n",
       "    </tr>\n",
       "  </thead>\n",
       "  <tbody>\n",
       "    <tr>\n",
       "      <th>0</th>\n",
       "      <td>2025-04-19</td>\n",
       "      <td>-0.640044</td>\n",
       "      <td>-0.584164</td>\n",
       "      <td>-0.019781</td>\n",
       "      <td>0.49278</td>\n",
       "      <td>0</td>\n",
       "      <td>0</td>\n",
       "      <td>1</td>\n",
       "      <td>0</td>\n",
       "    </tr>\n",
       "  </tbody>\n",
       "</table>\n",
       "</div>"
      ],
      "text/plain": [
       "           ds  visits_last_week  visits_two_weeks_ago  min_temp  max_temp  \\\n",
       "0  2025-04-19         -0.640044             -0.584164 -0.019781   0.49278   \n",
       "\n",
       "   is_sunny  is_cloudy  is_rainy  is_snowy  \n",
       "0         0          0         1         0  "
      ]
     },
     "execution_count": 4,
     "metadata": {},
     "output_type": "execute_result"
    }
   ],
   "source": [
    "OUTPUT_DIR = 'output'\n",
    "\n",
    "model = joblib.load(f'{OUTPUT_DIR}/attendance_model.pkl')\n",
    "scaler = joblib.load(f'{OUTPUT_DIR}/attendance_scaler.pkl')\n",
    "\n",
    "future_df[['visits_last_week', 'visits_two_weeks_ago', 'min_temp', 'max_temp']] = scaler.transform(future_df[['visits_last_week', 'visits_two_weeks_ago', 'min_temp', 'max_temp']])\n",
    "future_df.head()"
   ]
  },
  {
   "cell_type": "code",
   "execution_count": 5,
   "id": "b112f6e1",
   "metadata": {},
   "outputs": [
    {
     "data": {
      "text/plain": [
       "0    2527.455504\n",
       "Name: yhat, dtype: float64"
      ]
     },
     "execution_count": 5,
     "metadata": {},
     "output_type": "execute_result"
    }
   ],
   "source": [
    "forecast = model.predict(future_df)\n",
    "forecast[\"yhat\"]"
   ]
  }
 ],
 "metadata": {
  "kernelspec": {
   "display_name": ".venv",
   "language": "python",
   "name": "python3"
  },
  "language_info": {
   "codemirror_mode": {
    "name": "ipython",
    "version": 3
   },
   "file_extension": ".py",
   "mimetype": "text/x-python",
   "name": "python",
   "nbconvert_exporter": "python",
   "pygments_lexer": "ipython3",
   "version": "3.13.2"
  }
 },
 "nbformat": 4,
 "nbformat_minor": 5
}
